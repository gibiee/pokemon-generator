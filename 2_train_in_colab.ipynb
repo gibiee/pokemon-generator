{
 "cells": [
  {
   "cell_type": "markdown",
   "metadata": {},
   "source": [
    "<a target=\"_blank\" href=\"https://colab.research.google.com/github/gibiee/pokemon-generator/blob/main/2_train_in_colab.ipynb\">\n",
    "  <img src=\"https://colab.research.google.com/assets/colab-badge.svg\" alt=\"Open In Colab\"/>\n",
    "</a>"
   ]
  },
  {
   "cell_type": "code",
   "execution_count": null,
   "metadata": {},
   "outputs": [],
   "source": [
    "!git clone https://github.com/gibiee/pokemon-generator.git"
   ]
  },
  {
   "cell_type": "code",
   "execution_count": 9,
   "metadata": {},
   "outputs": [
    {
     "name": "stdout",
     "output_type": "stream",
     "text": [
      "fatal: destination path 'stylegan2-ada-pytorch' already exists and is not an empty directory.\n"
     ]
    }
   ],
   "source": [
    "!git clone https://github.com/NVlabs/stylegan2-ada-pytorch.git"
   ]
  },
  {
   "cell_type": "code",
   "execution_count": null,
   "metadata": {},
   "outputs": [],
   "source": [
    "# pytorch 설치\n",
    "# !pip install click requests tqdm pyspng ninja imageio-ffmpeg==0.4.3"
   ]
  },
  {
   "cell_type": "code",
   "execution_count": null,
   "metadata": {},
   "outputs": [],
   "source": [
    "augpipe_specs = {\n",
    "    'blit':   dict(xflip=1, rotate90=1, xint=1),\n",
    "    'geom':   dict(scale=1, rotate=1, aniso=1, xfrac=1),\n",
    "    'color':  dict(brightness=1, contrast=1, lumaflip=1, hue=1, saturation=1),\n",
    "    'filter': dict(imgfilter=1),\n",
    "    'noise':  dict(noise=1),\n",
    "    'cutout': dict(cutout=1),\n",
    "    'bg':     dict(xflip=1, rotate90=1, xint=1, scale=1, rotate=1, aniso=1, xfrac=1),\n",
    "    'bgc':    dict(xflip=1, rotate90=1, xint=1, scale=1, rotate=1, aniso=1, xfrac=1, brightness=1, contrast=1, lumaflip=1, hue=1, saturation=1),\n",
    "    'bgcf':   dict(xflip=1, rotate90=1, xint=1, scale=1, rotate=1, aniso=1, xfrac=1, brightness=1, contrast=1, lumaflip=1, hue=1, saturation=1, imgfilter=1),\n",
    "    'bgcfn':  dict(xflip=1, rotate90=1, xint=1, scale=1, rotate=1, aniso=1, xfrac=1, brightness=1, contrast=1, lumaflip=1, hue=1, saturation=1, imgfilter=1, noise=1),\n",
    "    'bgcfnc': dict(xflip=1, rotate90=1, xint=1, scale=1, rotate=1, aniso=1, xfrac=1, brightness=1, contrast=1, lumaflip=1, hue=1, saturation=1, imgfilter=1, noise=1, cutout=1),\n",
    "}\n"
   ]
  },
  {
   "cell_type": "markdown",
   "metadata": {},
   "source": [
    "Line 271 in `train.py` \n",
    "\n",
    "```py\n",
    "augpipe_specs = {\n",
    "    'blit':   dict(xflip=1, rotate90=1, xint=1),\n",
    "    'bgcfnc': dict(xflip=1, rotate90=1, xint=1, scale=1, rotate=1, aniso=1, xfrac=1, brightness=1, contrast=1, lumaflip=1, hue=1, saturation=1, imgfilter=1, noise=1, cutout=1),\n",
    "}\n",
    "```\n",
    "\n",
    "```sh\n",
    "default: bgc\n",
    "\n",
    "bilt : x-flip 하나만 적용하고 싶다.\n",
    "geom : 모두 적용하는데, rotation 계수만 조절하고 싶다.\n",
    "color : 모두 적용하는데, 계수는 어느정도 조절하고 싶긴 하다.\n",
    "filter : 모두 적용\n",
    "noise : 적용\n",
    "cutout : 적용\n",
    "\n",
    "augpipe_specs -> augment_kwargs\n",
    "```"
   ]
  },
  {
   "cell_type": "code",
   "execution_count": 1,
   "metadata": {},
   "outputs": [
    {
     "name": "stdout",
     "output_type": "stream",
     "text": [
      "Traceback (most recent call last):\n",
      "  File \"/Users/nkm/Desktop/source/pokemon-generator/stylegan2-ada-pytorch/train.py\", line 13, in <module>\n",
      "    import click\n",
      "ModuleNotFoundError: No module named 'click'\n"
     ]
    }
   ],
   "source": [
    "# 테스트\n",
    "!python stylegan2-ada-pytorch/train.py \\\n",
    "    --data=./dataset/images \\\n",
    "    --mirror=true \\\n",
    "    --outdir=./training-runs \\\n",
    "    --snap=100 \\\n",
    "    --gpus=0 \\\n",
    "    --dry-run"
   ]
  },
  {
   "cell_type": "code",
   "execution_count": null,
   "metadata": {},
   "outputs": [],
   "source": [
    "# 학습 진행 최종 커맨드\n",
    "!python stylegan2-ada-pytorch/train.py \\\n",
    "    --data=~/mydataset.zip \\\n",
    "    --cond=1 \\\n",
    "    --mirror=true \\\n",
    "    --outdir=./training-runs \\\n",
    "    --snap=100 \\\n",
    "    --gpus=0 \\\n",
    "    --dry-run\n",
    "\n",
    "\n",
    "# --resume\n",
    "\n",
    "# 회전 약간 걸기"
   ]
  },
  {
   "cell_type": "code",
   "execution_count": 2,
   "metadata": {},
   "outputs": [
    {
     "ename": "ModuleNotFoundError",
     "evalue": "No module named 'google'",
     "output_type": "error",
     "traceback": [
      "\u001b[0;31m---------------------------------------------------------------------------\u001b[0m",
      "\u001b[0;31mModuleNotFoundError\u001b[0m                       Traceback (most recent call last)",
      "Cell \u001b[0;32mIn[2], line 1\u001b[0m\n\u001b[0;32m----> 1\u001b[0m \u001b[38;5;28;01mfrom\u001b[39;00m \u001b[38;5;21;01mgoogle\u001b[39;00m\u001b[38;5;21;01m.\u001b[39;00m\u001b[38;5;21;01mcolab\u001b[39;00m \u001b[38;5;28;01mimport\u001b[39;00m drive\n\u001b[1;32m      2\u001b[0m drive\u001b[38;5;241m.\u001b[39mmount(\u001b[38;5;124m'\u001b[39m\u001b[38;5;124m/content/drive\u001b[39m\u001b[38;5;124m'\u001b[39m)\n",
      "\u001b[0;31mModuleNotFoundError\u001b[0m: No module named 'google'"
     ]
    }
   ],
   "source": [
    "from google.colab import drive\n",
    "drive.mount('/content/drive') "
   ]
  }
 ],
 "metadata": {
  "kernelspec": {
   "display_name": "pokemon",
   "language": "python",
   "name": "python3"
  },
  "language_info": {
   "codemirror_mode": {
    "name": "ipython",
    "version": 3
   },
   "file_extension": ".py",
   "mimetype": "text/x-python",
   "name": "python",
   "nbconvert_exporter": "python",
   "pygments_lexer": "ipython3",
   "version": "3.10.13"
  }
 },
 "nbformat": 4,
 "nbformat_minor": 2
}
